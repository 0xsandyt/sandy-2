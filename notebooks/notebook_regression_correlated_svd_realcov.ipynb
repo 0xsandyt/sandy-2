{
 "cells": [
  {
   "cell_type": "markdown",
   "id": "07d8bcef",
   "metadata": {},
   "source": [
    "# Regression analysis with SVD decomposition for a real covariance with a fake model"
   ]
  },
  {
   "cell_type": "code",
   "execution_count": null,
   "id": "014c3a14",
   "metadata": {},
   "outputs": [],
   "source": [
    "import pandas as pd\n",
    "import numpy as np\n",
    "from numpy.random import multivariate_normal, normal\n",
    "from numpy.linalg import cholesky, svd\n",
    "from scipy.sparse.linalg import lsqr\n",
    "from itertools import accumulate\n",
    "from sklearn.linear_model import LinearRegression\n",
    "from scipy.linalg import lstsq\n",
    "from scipy.optimize import nnls\n",
    "\n",
    "import pytest"
   ]
  },
  {
   "cell_type": "code",
   "execution_count": null,
   "id": "650f3a4d",
   "metadata": {},
   "outputs": [],
   "source": [
    "import matplotlib.pyplot as plt\n",
    "import seaborn as sns"
   ]
  },
  {
   "cell_type": "code",
   "execution_count": null,
   "id": "54184681",
   "metadata": {},
   "outputs": [],
   "source": [
    "import sandy"
   ]
  },
  {
   "cell_type": "markdown",
   "id": "c397f5be",
   "metadata": {},
   "source": [
    "## Real covariance with few groups (33)"
   ]
  },
  {
   "cell_type": "code",
   "execution_count": null,
   "id": "a365e13c",
   "metadata": {},
   "outputs": [],
   "source": [
    "tape = sandy.get_endf6_file(\"jeff_33\", \"xs\", 922350)\n",
    "mt = 102\n",
    "err = tape.get_errorr(err=1, xs=True, nubar=False, chi=False, mubar=False, errorr33_kws=dict(mt=mt, ign=19), verbose=True)[\"errorr33\"]\n",
    "cov = err.get_cov()"
   ]
  },
  {
   "cell_type": "code",
   "execution_count": null,
   "id": "5acdfcc6",
   "metadata": {},
   "outputs": [],
   "source": [
    "C = cov.data.copy()\n",
    "C = pd.DataFrame(C.values + np.diag(np.diag(C.values) * 0.5 / 100 + 0.0001), index=C.index, columns=C.columns)\n",
    "cov_ = sandy.CategoryCov(C)\n",
    "U, S, V = svd(C)\n",
    "Lambda12 = np.diag(np.sqrt(S))\n",
    "np.testing.assert_almost_equal((U @ Lambda12) @ (U @ Lambda12).T, C.values)"
   ]
  },
  {
   "cell_type": "code",
   "execution_count": null,
   "id": "ed7184f7",
   "metadata": {},
   "outputs": [],
   "source": [
    "fig, ax = plt.subplots(figsize=(6, 6))\n",
    "sns.heatmap(cov_.get_corr().data, ax=ax, cmap=\"bwr\", vmin=-1, vmax=1)\n",
    "fig.tight_layout()"
   ]
  },
  {
   "cell_type": "code",
   "execution_count": null,
   "id": "581e6dac",
   "metadata": {},
   "outputs": [],
   "source": [
    "M = cov.data.shape[0]  # number of parameters\n",
    "\n",
    "frac = S / S.sum()\n",
    "acc = np.array(list(accumulate(frac)))\n",
    "r = acc[acc < 0.98].size + 1\n",
    "\n",
    "N = 5000  # number of samples\n",
    "\n",
    "print(f\"sample size:                  {N:>10}\\nnumber of parameters:         {M:>10}\\nreduced number of parameters: {r:>10}\")"
   ]
  },
  {
   "cell_type": "code",
   "execution_count": null,
   "id": "963723d2",
   "metadata": {},
   "outputs": [],
   "source": [
    "# non correlated, standardized sample\n",
    "X_ = normal(loc=1., scale=1., size=N * M).reshape(N, M)\n",
    "\n",
    "# correlated sample\n",
    "X = X_ @ (U @ Lambda12).T"
   ]
  },
  {
   "cell_type": "code",
   "execution_count": null,
   "id": "b3ea640a",
   "metadata": {},
   "outputs": [],
   "source": [
    "f = (np.arange(M) + 1)[::-1]\n",
    "def model(x): return f @ x"
   ]
  },
  {
   "cell_type": "code",
   "execution_count": null,
   "id": "ea2df767",
   "metadata": {},
   "outputs": [],
   "source": [
    "Y = model(X.T)\n",
    "Z = lstsq(X, Y)[0]\n",
    "#u, s, vh = svd(X, full_matrices=False)\n",
    "#Z1 = (vh.T @ np.diag(1/s) @ u.T @ Y.reshape(-1, 1)).flatten()  # svd decomposition, same as in lstsq"
   ]
  },
  {
   "cell_type": "code",
   "execution_count": null,
   "id": "4b5ec58a",
   "metadata": {
    "scrolled": false
   },
   "outputs": [],
   "source": [
    "fig, ax = plt.subplots(figsize=(15, 4))\n",
    "\n",
    "data = {}\n",
    "for fv in np.array([0.95, 0.98, 0.99, 0.999]):\n",
    "    n = acc[acc < fv].size + 1\n",
    "    Y = model(X[:n, :].T)\n",
    "    Z = lstsq(X[:n, :], Y)[0]\n",
    "    data[f\"N={n}, FV={fv}\"] = Z\n",
    "\n",
    "Y = model(X.T)\n",
    "Z = lstsq(X, Y)[0]\n",
    "data[f\"N={N}\"] = Z\n",
    "\n",
    "pd.DataFrame(data).plot(kind=\"line\", ax=ax)\n",
    "ax.set(\n",
    "    ylim=[-50, f.max()]\n",
    ")\n",
    "\n",
    "fig.tight_layout()"
   ]
  },
  {
   "cell_type": "markdown",
   "id": "eeac4c39",
   "metadata": {},
   "source": [
    "## Real covariance with many groups (1968)"
   ]
  },
  {
   "cell_type": "code",
   "execution_count": null,
   "id": "904e0a29",
   "metadata": {},
   "outputs": [],
   "source": [
    "tape = sandy.get_endf6_file(\"jeff_33\", \"xs\", 922350)\n",
    "mt = 102\n",
    "err = tape.get_errorr(err=1, xs=True, nubar=False, chi=False, mubar=False, errorr33_kws=dict(mt=mt, ign=20), verbose=True)[\"errorr33\"]\n",
    "cov = err.get_cov()"
   ]
  },
  {
   "cell_type": "code",
   "execution_count": null,
   "id": "a3c444e9",
   "metadata": {},
   "outputs": [],
   "source": [
    "C = cov.data.copy()\n",
    "C = pd.DataFrame(C.values + np.diag(np.diag(C.values) * 0.5 / 100 + 0.0001), index=C.index, columns=C.columns)\n",
    "cov_ = sandy.CategoryCov(C)\n",
    "U, S, V = svd(C)\n",
    "Lambda12 = np.diag(np.sqrt(S))\n",
    "np.testing.assert_almost_equal((U @ Lambda12) @ (U @ Lambda12).T, C.values)"
   ]
  },
  {
   "cell_type": "code",
   "execution_count": null,
   "id": "853fb040",
   "metadata": {},
   "outputs": [],
   "source": [
    "fig, ax = plt.subplots(figsize=(6, 6))\n",
    "sns.heatmap(cov_.get_corr().data, ax=ax, cmap=\"bwr\", vmin=-1, vmax=1)\n",
    "fig.tight_layout()"
   ]
  },
  {
   "cell_type": "code",
   "execution_count": null,
   "id": "ef4a3adc",
   "metadata": {},
   "outputs": [],
   "source": [
    "M = cov.data.shape[0]  # number of parameters\n",
    "\n",
    "frac = S / S.sum()\n",
    "acc = np.array(list(accumulate(frac)))\n",
    "r = acc[acc < 0.98].size + 1\n",
    "\n",
    "N = 5000  # number of samples\n",
    "\n",
    "print(f\"sample size:                  {N:>10}\\nnumber of parameters:         {M:>10}\\nreduced number of parameters: {r:>10}\")"
   ]
  },
  {
   "cell_type": "code",
   "execution_count": null,
   "id": "6d7bddad",
   "metadata": {},
   "outputs": [],
   "source": [
    "# non correlated, standardized sample\n",
    "X_ = normal(loc=1., scale=1., size=N * M).reshape(N, M)\n",
    "\n",
    "# correlated sample\n",
    "X = X_ @ (U @ Lambda12).T"
   ]
  },
  {
   "cell_type": "code",
   "execution_count": null,
   "id": "859d191e",
   "metadata": {},
   "outputs": [],
   "source": [
    "f = (np.arange(M) + 1)[::-1]\n",
    "def model(x): return f @ x"
   ]
  },
  {
   "cell_type": "code",
   "execution_count": null,
   "id": "7dc8c6fa",
   "metadata": {},
   "outputs": [],
   "source": [
    "#u, s, vh = svd(X, full_matrices=False)\n",
    "#Z1 = (vh.T @ np.diag(1/s) @ u.T @ Y.reshape(-1, 1)).flatten()  # svd decomposition, same as in lstsq"
   ]
  },
  {
   "cell_type": "code",
   "execution_count": null,
   "id": "a0c0c257",
   "metadata": {
    "scrolled": false
   },
   "outputs": [],
   "source": [
    "fig, ax = plt.subplots(figsize=(15, 4))\n",
    "\n",
    "data = {}\n",
    "for fv in np.array([0.95, 0.98, 0.99, 0.999]):\n",
    "    n = acc[acc < fv].size + 1\n",
    "    Y = model(X[:n, :].T)\n",
    "    Z = lstsq(X[:n, :], Y)[0]\n",
    "    data[f\"N={n}, FV={fv}\"] = Z\n",
    "\n",
    "Y = model(X.T)\n",
    "Z = lstsq(X, Y)[0]\n",
    "data[f\"N={N}\"] = Z\n",
    "\n",
    "pd.DataFrame(data).plot(kind=\"line\", ax=ax)\n",
    "ax.set(\n",
    "    ylim=[-50, f.max()]\n",
    ")\n",
    "\n",
    "fig.tight_layout()"
   ]
  },
  {
   "cell_type": "markdown",
   "id": "b717c987",
   "metadata": {},
   "source": [
    "## Real covariance with many groups (239) and many reactions (all=8)"
   ]
  },
  {
   "cell_type": "code",
   "execution_count": null,
   "id": "edf81f3a",
   "metadata": {},
   "outputs": [],
   "source": [
    "tape = sandy.get_endf6_file(\"jeff_33\", \"xs\", 922350)\n",
    "mt = 102\n",
    "err = tape.get_errorr(err=1, xs=True, nubar=False, chi=False, mubar=False, errorr33_kws=dict(ign=2), verbose=True)[\"errorr33\"]\n",
    "cov = err.get_cov()"
   ]
  },
  {
   "cell_type": "code",
   "execution_count": null,
   "id": "bce54fcb",
   "metadata": {},
   "outputs": [],
   "source": [
    "C = cov.data.copy()\n",
    "print(f\"condition number original matrix: {np.linalg.cond(C):>10}\")\n",
    "C = pd.DataFrame(C.values + np.diag(np.diag(C.values) * 0.5 / 100 + 0.0001), index=C.index, columns=C.columns)\n",
    "print(f\"condition number adjusted matrix: {np.linalg.cond(C):>10}\")\n",
    "cov_ = sandy.CategoryCov(C)\n",
    "U, S, V = svd(C)\n",
    "Lambda12 = np.diag(np.sqrt(S))\n",
    "np.testing.assert_almost_equal((U @ Lambda12) @ (U @ Lambda12).T, C.values)"
   ]
  },
  {
   "cell_type": "code",
   "execution_count": null,
   "id": "217464e8",
   "metadata": {},
   "outputs": [],
   "source": [
    "fig, ax = plt.subplots(figsize=(6, 6))\n",
    "sns.heatmap(cov_.get_corr().data, ax=ax, cmap=\"bwr\", vmin=-1, vmax=1)\n",
    "fig.tight_layout()"
   ]
  },
  {
   "cell_type": "code",
   "execution_count": null,
   "id": "57fa0569",
   "metadata": {},
   "outputs": [],
   "source": [
    "M = cov.data.shape[0]  # number of parameters\n",
    "\n",
    "frac = S / S.sum()\n",
    "acc = np.array(list(accumulate(frac)))\n",
    "r = acc[acc < 0.98].size + 1\n",
    "\n",
    "N = 5000  # number of samples\n",
    "\n",
    "print(f\"sample size:                  {N:>10}\\nnumber of parameters:         {M:>10}\\nreduced number of parameters: {r:>10}\")"
   ]
  },
  {
   "cell_type": "code",
   "execution_count": null,
   "id": "4c73c083",
   "metadata": {},
   "outputs": [],
   "source": [
    "# non correlated, standardized sample\n",
    "X_ = normal(loc=1., scale=1., size=N * M).reshape(N, M)\n",
    "\n",
    "# correlated sample\n",
    "X = X_ @ (U @ Lambda12).T"
   ]
  },
  {
   "cell_type": "code",
   "execution_count": null,
   "id": "632cd3ec",
   "metadata": {},
   "outputs": [],
   "source": [
    "f = (np.arange(M) + 1)[::-1]\n",
    "def model(x): return f @ x"
   ]
  },
  {
   "cell_type": "code",
   "execution_count": null,
   "id": "3e6a5031",
   "metadata": {
    "scrolled": false
   },
   "outputs": [],
   "source": [
    "fig, ax = plt.subplots(figsize=(15, 4))\n",
    "\n",
    "data = {}\n",
    "for fv in np.array([0.95, 0.98, 0.99, 0.999]):\n",
    "    n = acc[acc < fv].size + 1\n",
    "    Y = model(X[:n, :].T)\n",
    "    Z = lstsq(X[:n, :], Y)[0]\n",
    "    data[f\"N={n}, FV={fv}\"] = Z\n",
    "\n",
    "Y = model(X.T)\n",
    "Z = lstsq(X, Y)[0]\n",
    "data[f\"N={N}\"] = Z\n",
    "\n",
    "pd.DataFrame(data).plot(kind=\"line\", ax=ax)\n",
    "ax.set(\n",
    "    ylim=[-50, f.max()]\n",
    ")\n",
    "\n",
    "fig.tight_layout()"
   ]
  }
 ],
 "metadata": {
  "kernelspec": {
   "display_name": "Python [conda env:sandy-v1.0] *",
   "language": "python",
   "name": "conda-env-sandy-v1.0-py"
  },
  "language_info": {
   "codemirror_mode": {
    "name": "ipython",
    "version": 3
   },
   "file_extension": ".py",
   "mimetype": "text/x-python",
   "name": "python",
   "nbconvert_exporter": "python",
   "pygments_lexer": "ipython3",
   "version": "3.11.3"
  }
 },
 "nbformat": 4,
 "nbformat_minor": 5
}
