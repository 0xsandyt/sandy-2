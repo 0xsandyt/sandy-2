{
 "cells": [
  {
   "cell_type": "markdown",
   "id": "8b5015d5",
   "metadata": {},
   "source": [
    "# Truncating eigenvalues"
   ]
  },
  {
   "cell_type": "code",
   "execution_count": 1,
   "id": "9e2c4eef",
   "metadata": {},
   "outputs": [],
   "source": [
    "import sandy"
   ]
  },
  {
   "cell_type": "code",
   "execution_count": 2,
   "id": "c80f558f",
   "metadata": {},
   "outputs": [],
   "source": [
    "import numpy as np\n",
    "import pandas as pd"
   ]
  },
  {
   "cell_type": "code",
   "execution_count": 3,
   "id": "02407c34",
   "metadata": {},
   "outputs": [],
   "source": [
    "import matplotlib.pyplot as plt\n",
    "import seaborn as sns\n",
    "sns.set_style(\"whitegrid\")"
   ]
  },
  {
   "cell_type": "markdown",
   "id": "282dc352",
   "metadata": {},
   "source": [
    "## Processing U-235 with ERRORR"
   ]
  },
  {
   "cell_type": "markdown",
   "id": "54ba6dd0",
   "metadata": {},
   "source": [
    "The ENDF/B-8.0 file for U-235 was selected since the stored covariance matrix contains a large negative eigenvalue coming from the cross correlation between the fission and capture cross sections."
   ]
  },
  {
   "cell_type": "code",
   "execution_count": 4,
   "id": "843f4c88",
   "metadata": {},
   "outputs": [],
   "source": [
    "err = 0.1  # RECONR xs reconstruction tolerance (poor, but it should work)\n",
    "\n",
    "# ERRROR parameters\n",
    "relative = True  # relative covariance matrix\n",
    "mt = [18, 102]  # considered reactions\n",
    "ek_errorr = [2e-5, 5.4e-1, 2.26033e1, 2.03468e3, 6.73795e4, 4.97871e5, 2.23130e6, 1.96403e7]  # energy groups in eV\n",
    "iwt_errorr = 2  # constant"
   ]
  },
  {
   "cell_type": "code",
   "execution_count": 5,
   "id": "b0089402",
   "metadata": {},
   "outputs": [],
   "source": [
    "tape = sandy.get_endf6_file(\"endfb_80\", \"xs\", 922350)\n",
    "errorr = tape.get_errorr(\n",
    "    err=err, relative=relative, mt=mt,\n",
    "    ek_errorr=ek_errorr, iwt_errorr=iwt_errorr,\n",
    "    mubar=False, chi=False, nubar=False,\n",
    ")"
   ]
  },
  {
   "cell_type": "markdown",
   "id": "42a0c50f",
   "metadata": {},
   "source": [
    "## Extracting covariance and plotting eigenvalues"
   ]
  },
  {
   "cell_type": "code",
   "execution_count": 6,
   "id": "16321359",
   "metadata": {},
   "outputs": [],
   "source": [
    "C = errorr.get_cov()"
   ]
  },
  {
   "cell_type": "code",
   "execution_count": 7,
   "id": "7cdc4ab5",
   "metadata": {},
   "outputs": [],
   "source": [
    "Ecov, Vcov = C.get_eig()\n",
    "corr = C.get_corr()\n",
    "Ecorr, Vcorr = corr.get_eig()"
   ]
  },
  {
   "cell_type": "code",
   "execution_count": 10,
   "id": "7114c325",
   "metadata": {},
   "outputs": [
    {
     "data": {
      "image/png": "[encoded data removed]",
      "text/plain": [
       "<Figure size 700x400 with 2 Axes>"
      ]
     },
     "metadata": {},
     "output_type": "display_data"
    }
   ],
   "source": [
    "fig, axs = plt.subplots(2, 1, figsize=(7, 4), sharex=True, dpi=100)\n",
    "\n",
    "ax = axs[0]\n",
    "eigs = Ecov.sort_values(ascending=False).reset_index(drop=True).reset_index()\n",
    "eigs[\"ABS\"] = eigs.EIG.abs()\n",
    "eigs[eigs.EIG >= 0].plot(kind=\"scatter\", x=\"index\", y=\"ABS\", ax=ax, logy=True, color=\"blue\")\n",
    "eigs[eigs.EIG <= 0].plot(kind=\"scatter\", x=\"index\", y=\"ABS\", ax=ax, logy=True, color=\"tomato\")\n",
    "ax.set_ylabel(\"eigenvalue COV matrix\")\n",
    "ax.set_ylim([1e-6, 1e-1])\n",
    "\n",
    "ax = axs[1]\n",
    "eigs = Ecorr.sort_values(ascending=False).reset_index(drop=True).reset_index()\n",
    "eigs[\"ABS\"] = eigs.EIG.abs()\n",
    "eigs[eigs.EIG >= 0].plot(kind=\"scatter\", x=\"index\", y=\"ABS\", ax=ax, logy=True, color=\"blue\")\n",
    "eigs[eigs.EIG <= 0].plot(kind=\"scatter\", x=\"index\", y=\"ABS\", ax=ax, logy=True, color=\"tomato\")\n",
    "ax.set_ylabel(\"eigenvalue CORR matrix\")\n",
    "ax.set_ylim([1e-2, 3e1])\n",
    "\n",
    "fig.tight_layout()"
   ]
  },
  {
   "cell_type": "markdown",
   "id": "6284fdc6",
   "metadata": {},
   "source": [
    "# Eigenvalue truncation"
   ]
  },
  {
   "cell_type": "markdown",
   "id": "c1b9e1a1",
   "metadata": {},
   "source": [
    "A `tolerance=0` was set to truncate all eigenvalues `<0`. These eigenvalues are replaced by zeros."
   ]
  },
  {
   "cell_type": "markdown",
   "id": "97ff5554",
   "metadata": {},
   "source": [
    "Then, the covariance matrix can be reconstructed from its __modified__ eigenvalues and original eigenvectors as:"
   ]
  },
  {
   "cell_type": "markdown",
   "id": "33e973c2",
   "metadata": {},
   "source": [
    "$$\n",
    "\\widetilde{\\mathbf{C}} = \\mathbf{V} \\widetilde{\\mathbf{E}} \\mathbf{V}^T \n",
    "$$"
   ]
  },
  {
   "cell_type": "code",
   "execution_count": null,
   "id": "32a56dfd",
   "metadata": {},
   "outputs": [],
   "source": [
    "Ecov, Vcov = C.get_eig(tolerance=0)\n",
    "C_ = sandy.CategoryCov(np.diag(Ecov.values)).sandwich(Vcov.T.values)\n",
    "C_.data.index = C_.data.columns = C.data.index\n",
    "corr_ = C_.get_corr()"
   ]
  },
  {
   "cell_type": "markdown",
   "id": "d16eeff5",
   "metadata": {},
   "source": [
    "The correlation matrix shows different correlations in the low energy region for fission and between the low energy region for fission and the high energy region for capture."
   ]
  },
  {
   "cell_type": "code",
   "execution_count": null,
   "id": "03e8a2ee",
   "metadata": {},
   "outputs": [],
   "source": [
    "fig, axs = plt.subplots(1, 2, figsize=(10, 5), sharex=True, sharey=True, dpi=100)\n",
    "\n",
    "ax = axs[0]\n",
    "ax.set_aspect(\"equal\")\n",
    "sns.heatmap(corr.data, ax=ax, cmap='bwr', vmin=-1, vmax=1)\n",
    "ax.axhline(8, color='black')\n",
    "ax.axvline(8, color='black')\n",
    "ax.set_title(\"original CORR\")\n",
    "\n",
    "ax = axs[1]\n",
    "ax.set_aspect(\"equal\")\n",
    "sns.heatmap(corr_.data, ax=ax, cmap='bwr', vmin=-1, vmax=1)\n",
    "ax.axhline(8, color='black')\n",
    "ax.axvline(8, color='black')\n",
    "ax.set_title(\"modified CORR\")\n",
    "\n",
    "fig.tight_layout()"
   ]
  },
  {
   "cell_type": "markdown",
   "id": "b3c6cd17",
   "metadata": {},
   "source": [
    "The standard deviation is also affected."
   ]
  },
  {
   "cell_type": "code",
   "execution_count": null,
   "id": "59aee805",
   "metadata": {},
   "outputs": [],
   "source": [
    "fig, ax = plt.subplots(figsize=(7, 4), dpi=100)\n",
    "\n",
    "std = C.get_std().reset_index().pivot_table(index=\"E\", columns=\"MT\", values=\"STD\").multiply(100)\n",
    "std_ = C_.get_std().reset_index().pivot_table(index=\"E\", columns=\"MT\", values=\"STD\").multiply(100)\n",
    "\n",
    "std[18].plot(ax=ax, logx=True, drawstyle=\"steps-post\", label=\"(n,fiss.) - original\", color=\"dodgerblue\")\n",
    "std_[18].plot(ax=ax, logx=True, drawstyle=\"steps-post\", label=\"(n,fiss.) - modified\", color=\"dodgerblue\", linestyle=\"--\")\n",
    "\n",
    "std[102].plot(ax=ax, logx=True, drawstyle=\"steps-post\", label=\"(n,$\\gamma$) - original\", color=\"tomato\")\n",
    "std_[102].plot(ax=ax, logx=True, drawstyle=\"steps-post\", label=\"(n,$\\gamma$) - modified\", color=\"tomato\", linestyle=\"--\")\n",
    "\n",
    "ax.legend()\n",
    "ax.set_ylim((0, None))\n",
    "ax.set_xlim((std.index[0], std.index[-1]))\n",
    "ax.set_ylabel(\"standard deviation / %\")\n",
    "ax.set_xlabel(\"energy / $eV$\")\n",
    "\n",
    "fig.tight_layout()"
   ]
  }
 ],
 "metadata": {
  "kernelspec": {
   "display_name": "Python3 (sandy-devel)",
   "language": "python",
   "name": "sandy-devel"
  },
  "language_info": {
   "codemirror_mode": {
    "name": "ipython",
    "version": 3
   },
   "file_extension": ".py",
   "mimetype": "text/x-python",
   "name": "python",
   "nbconvert_exporter": "python",
   "pygments_lexer": "ipython3",
   "version": "3.7.10"
  }
 },
 "nbformat": 4,
 "nbformat_minor": 5
}
