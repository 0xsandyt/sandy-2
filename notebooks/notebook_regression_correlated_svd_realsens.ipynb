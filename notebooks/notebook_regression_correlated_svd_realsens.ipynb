{
 "cells": [
  {
   "cell_type": "markdown",
   "id": "07d8bcef",
   "metadata": {},
   "source": [
    "# Regression analysis with SVD decomposition for a real covariance and a fast system"
   ]
  },
  {
   "cell_type": "code",
   "execution_count": null,
   "id": "014c3a14",
   "metadata": {},
   "outputs": [],
   "source": [
    "import pandas as pd\n",
    "import numpy as np\n",
    "from numpy.random import multivariate_normal, normal\n",
    "from numpy.linalg import cholesky, svd\n",
    "from scipy.sparse.linalg import lsqr\n",
    "from itertools import accumulate\n",
    "from sklearn.linear_model import LinearRegression\n",
    "from scipy.linalg import lstsq\n",
    "from scipy.optimize import nnls\n",
    "\n",
    "import pytest"
   ]
  },
  {
   "cell_type": "code",
   "execution_count": null,
   "id": "650f3a4d",
   "metadata": {},
   "outputs": [],
   "source": [
    "import matplotlib.pyplot as plt\n",
    "import seaborn as sns"
   ]
  },
  {
   "cell_type": "code",
   "execution_count": null,
   "id": "54184681",
   "metadata": {},
   "outputs": [],
   "source": [
    "import sandy\n",
    "import serpentTools as sts"
   ]
  },
  {
   "cell_type": "markdown",
   "id": "c397f5be",
   "metadata": {},
   "source": [
    "## Real covariance with same groups as the sensitivity (1000)"
   ]
  },
  {
   "cell_type": "code",
   "execution_count": null,
   "id": "9ac356a5",
   "metadata": {},
   "outputs": [],
   "source": [
    "sens = sts.read(\"Godiva.i_sens0.m\")"
   ]
  },
  {
   "cell_type": "code",
   "execution_count": null,
   "id": "3418d7c5",
   "metadata": {},
   "outputs": [],
   "source": [
    "nzai = sens.zais[922350]\n",
    "\n",
    "sensitivity = {}\n",
    "e = sens.energies\n",
    "\n",
    "npert = sens.perts['capture xs']\n",
    "s = sens.sensitivities[\"keff\"][0, nzai, npert].T[0]\n",
    "sensitivity[\"capture xs\"] = pd.Series(s, index=e[1:])\n",
    "npert = sens.perts['fission xs']\n",
    "s = sens.sensitivities[\"keff\"][0, nzai, npert].T[0]\n",
    "sensitivity[\"fission xs\"] = pd.Series(s, index=e[1:])\n",
    "npert = sens.perts['ela scatt xs']\n",
    "s = sens.sensitivities[\"keff\"][0, nzai, npert].T[0]\n",
    "sensitivity[\"ela scatt xs\"] = pd.Series(s, index=e[1:])\n",
    "npert = sens.perts['inl scatt xs']\n",
    "s = sens.sensitivities[\"keff\"][0, nzai, npert].T[0]\n",
    "sensitivity[\"inl scatt xs\"] = pd.Series(s, index=e[1:])"
   ]
  },
  {
   "cell_type": "code",
   "execution_count": null,
   "id": "a365e13c",
   "metadata": {},
   "outputs": [],
   "source": [
    "tape = sandy.get_endf6_file(\"jeff_33\", \"xs\", 922350)\n",
    "mt = [2, 4, 18, 102]\n",
    "err = tape.get_errorr(err=1, xs=True, nubar=False, chi=False, mubar=False, errorr33_kws=dict(mt=mt, ek=e), verbose=False)[\"errorr33\"]\n",
    "cov = err.get_cov()"
   ]
  },
  {
   "cell_type": "code",
   "execution_count": null,
   "id": "266e738c",
   "metadata": {},
   "outputs": [],
   "source": [
    "C = cov.data.copy()\n",
    "#print(f\"condition number original matrix: {np.linalg.cond(C):>10}\")\n",
    "C = pd.DataFrame(C.values + np.diag(np.diag(C.values) * 0.5 / 100 + 0.0001), index=C.index, columns=C.columns)\n",
    "#print(f\"condition number adjusted matrix: {np.linalg.cond(C):>10}\")\n",
    "cov_ = sandy.CategoryCov(C)"
   ]
  },
  {
   "cell_type": "code",
   "execution_count": null,
   "id": "aae58078",
   "metadata": {},
   "outputs": [],
   "source": [
    "U, S, V = svd(C)\n",
    "Lambda12 = np.diag(np.sqrt(S))"
   ]
  },
  {
   "cell_type": "code",
   "execution_count": null,
   "id": "ed7184f7",
   "metadata": {},
   "outputs": [],
   "source": [
    "fig, ax = plt.subplots(figsize=(6, 6))\n",
    "sns.heatmap(cov_.get_corr().data, ax=ax, cmap=\"bwr\", vmin=-1, vmax=1)\n",
    "fig.tight_layout()"
   ]
  },
  {
   "cell_type": "code",
   "execution_count": null,
   "id": "581e6dac",
   "metadata": {},
   "outputs": [],
   "source": [
    "M = cov.data.shape[0]  # number of parameters\n",
    "\n",
    "frac = S / S.sum()\n",
    "acc = np.array(list(accumulate(frac)))\n",
    "r = acc[acc < 0.98].size + 1\n",
    "\n",
    "N = 5000  # number of samples\n",
    "\n",
    "print(f\"sample size:                  {N:>10}\\nnumber of parameters:         {M:>10}\\nreduced number of parameters: {r:>10}\")"
   ]
  },
  {
   "cell_type": "code",
   "execution_count": null,
   "id": "963723d2",
   "metadata": {},
   "outputs": [],
   "source": [
    "# non correlated, standardized sample\n",
    "X_ = normal(loc=1., scale=1., size=N * M).reshape(N, M)\n",
    "\n",
    "# correlated sample\n",
    "X = X_ @ (U @ Lambda12).T"
   ]
  },
  {
   "cell_type": "code",
   "execution_count": null,
   "id": "b3ea640a",
   "metadata": {},
   "outputs": [],
   "source": [
    "def model1(x): return sensitivity[\"capture xs\"] @ x\n",
    "def model2(x): return sensitivity[\"fission xs\"] @ x\n",
    "def model3(x): return sensitivity[\"ela scatt xs\"] @ x\n",
    "def model4(x): return sensitivity[\"inl scatt xs\"] @ x"
   ]
  },
  {
   "cell_type": "code",
   "execution_count": null,
   "id": "4b5ec58a",
   "metadata": {},
   "outputs": [],
   "source": [
    "fig, ax = plt.subplots(figsize=(8, 5))\n",
    "\n",
    "model = model1\n",
    "\n",
    "data = {}\n",
    "for fv in np.array([0.8, 0.86, 0.9, 0.95]):\n",
    "    n = acc[acc < fv].size + 1\n",
    "    Y = model(X[:n, (e.size - 1)*2:(e.size - 1)*3].T)\n",
    "    Z = lstsq(X[:n, (e.size - 1)*2:(e.size - 1)*3], Y)[0]\n",
    "    data[f\"N={n}, FV={fv}\"] = Z\n",
    "\n",
    "# Y = model(X[:, (e.size - 1)*0:(e.size - 1)*1].T)\n",
    "# Z = lstsq(X[:, (e.size - 1)*0:(e.size - 1)*1], Y)[0]\n",
    "# data[f\"N={N}\"] = Z\n",
    "\n",
    "pd.DataFrame(data, index=e[1:]).plot(kind=\"line\", ax=ax, logx=True, drawstyle=\"steps-pre\")\n",
    "sensitivity[\"capture xs\"].plot(ax=ax, label=\"sensitivity\", ls=\"--\", drawstyle=\"steps-pre\")\n",
    "ax.legend()\n",
    "\n",
    "ax.set(xlim=[1e-3, 20], title=\"fssion xs\")\n",
    "\n",
    "fig.tight_layout()"
   ]
  },
  {
   "cell_type": "code",
   "execution_count": null,
   "id": "012a5c70",
   "metadata": {},
   "outputs": [],
   "source": [
    "fig, ax = plt.subplots(figsize=(8, 5))\n",
    "\n",
    "model = model2\n",
    "\n",
    "data = {}\n",
    "for fv in np.array([0.8, 0.86, 0.9, 0.95]):\n",
    "    n = acc[acc < fv].size + 1\n",
    "    Y = model(X[:n, (e.size - 1)*3:(e.size - 1)*4].T)\n",
    "    Z = lstsq(X[:n, (e.size - 1)*3:(e.size - 1)*4], Y)[0]\n",
    "    data[f\"N={n}, FV={fv}\"] = Z\n",
    "\n",
    "# Y = model(X[:, (e.size - 1)*1:(e.size - 1)*2].T)\n",
    "# Z = lstsq(X[:, (e.size - 1)*1:(e.size - 1)*2], Y)[0]\n",
    "# data[f\"N={N}\"] = Z\n",
    "\n",
    "pd.DataFrame(data, index=e[1:]).plot(kind=\"line\", ax=ax, logx=True, drawstyle=\"steps-pre\")\n",
    "sensitivity[\"fission xs\"].plot(ax=ax, label=\"sensitivity\", ls=\"--\", drawstyle=\"steps-pre\")\n",
    "ax.legend()\n",
    "\n",
    "ax.set(xlim=[1e-3, 20], title=\"capture xs\")\n",
    "\n",
    "fig.tight_layout()"
   ]
  },
  {
   "cell_type": "code",
   "execution_count": null,
   "id": "03d5cc39",
   "metadata": {},
   "outputs": [],
   "source": [
    "fig, ax = plt.subplots(figsize=(8, 5))\n",
    "\n",
    "model = model3\n",
    "\n",
    "data = {}\n",
    "for fv in np.array([0.8, 0.86, 0.9, 0.95]):\n",
    "    n = acc[acc < fv].size + 1\n",
    "    Y = model(X[:n, (e.size - 1)*0:(e.size - 1)*1].T)\n",
    "    Z = lstsq(X[:n, (e.size - 1)*0:(e.size - 1)*1], Y)[0]\n",
    "    data[f\"N={n}, FV={fv}\"] = Z\n",
    "\n",
    "# Y = model(X[:, (e.size - 1)*2:(e.size - 1)*3].T)\n",
    "# Z = lstsq(X[:, (e.size - 1)*2:(e.size - 1)*3], Y)[0]\n",
    "# data[f\"N={N}\"] = Z\n",
    "\n",
    "pd.DataFrame(data, index=e[1:]).plot(kind=\"line\", ax=ax, logx=True, drawstyle=\"steps-pre\")\n",
    "sensitivity[\"ela scatt xs\"].plot(ax=ax, label=\"sensitivity\", ls=\"--\", drawstyle=\"steps-pre\")\n",
    "ax.legend()\n",
    "\n",
    "ax.set(xlim=[1e-3, 20], title=\"ela scatt xs\")\n",
    "\n",
    "fig.tight_layout()"
   ]
  },
  {
   "cell_type": "code",
   "execution_count": null,
   "id": "af39e7a9",
   "metadata": {},
   "outputs": [],
   "source": [
    "fig, ax = plt.subplots(figsize=(8, 5))\n",
    "\n",
    "model = model4\n",
    "\n",
    "data = {}\n",
    "for fv in np.array([0.8, 0.86, 0.9, 0.95]):\n",
    "    n = acc[acc < fv].size + 1\n",
    "    Y = model(X[:n, (e.size - 1)*1:(e.size - 1)*2].T)\n",
    "    Z = lstsq(X[:n, (e.size - 1)*1:(e.size - 1)*2], Y)[0]\n",
    "    data[f\"N={n}, FV={fv}\"] = Z\n",
    "\n",
    "# Y = model(X[:, (e.size - 1)*3:(e.size - 1)*4].T)\n",
    "# Z = lstsq(X[:, (e.size - 1)*3:(e.size - 1)*4], Y)[0]\n",
    "# data[f\"N={N}\"] = Z\n",
    "\n",
    "pd.DataFrame(data, index=e[1:]).plot(kind=\"line\", ax=ax, logx=True, drawstyle=\"steps-pre\")\n",
    "sensitivity[\"inl scatt xs\"].plot(ax=ax, label=\"sensitivity\", ls=\"--\", drawstyle=\"steps-pre\")\n",
    "ax.legend()\n",
    "\n",
    "ax.set(xlim=[1e-3, 20], title=\"inl scatt xs\")\n",
    "\n",
    "fig.tight_layout()"
   ]
  },
  {
   "cell_type": "markdown",
   "id": "66ffc5b4",
   "metadata": {},
   "source": [
    "## Full model (all sensitivities together)"
   ]
  },
  {
   "cell_type": "code",
   "execution_count": null,
   "id": "6869c323",
   "metadata": {},
   "outputs": [],
   "source": [
    "def model(x):\n",
    "    sens_all = pd.concat([sensitivity[\"ela scatt xs\"], sensitivity[\"inl scatt xs\"], sensitivity[\"fission xs\"], sensitivity[\"capture xs\"]], ignore_index=True).values\n",
    "    return sens_all @ x"
   ]
  },
  {
   "cell_type": "code",
   "execution_count": null,
   "id": "387c4303",
   "metadata": {},
   "outputs": [],
   "source": [
    "fig, ax = plt.subplots(figsize=(10, 6))\n",
    "\n",
    "model = model\n",
    "\n",
    "fv = 0.80\n",
    "n = acc[acc < fv].size + 1\n",
    "Y = model(X[:n, :].T)\n",
    "Z = lstsq(X[:n, :], Y)[0]\n",
    "\n",
    "pd.Series(Z[(e.size - 1)*0:(e.size - 1)*1], index=e[1:]).plot(kind=\"line\", ax=ax, logx=True, drawstyle=\"steps-pre\", label=\"sensitivity ela scatt xs\")\n",
    "pd.Series(Z[(e.size - 1)*1:(e.size - 1)*2], index=e[1:]).plot(kind=\"line\", ax=ax, logx=True, drawstyle=\"steps-pre\", label=\"sensitivity inl scatt xs\")\n",
    "pd.Series(Z[(e.size - 1)*2:(e.size - 1)*3], index=e[1:]).plot(kind=\"line\", ax=ax, logx=True, drawstyle=\"steps-pre\", label=\"sensitivity capture xs\")\n",
    "pd.Series(Z[(e.size - 1)*3:(e.size - 1)*4], index=e[1:]).plot(kind=\"line\", ax=ax, logx=True, drawstyle=\"steps-pre\", label=\"sensitivity fission xs\")\n",
    "sensitivity[\"capture xs\"].plot(ax=ax, ls=\"--\", lw=2, drawstyle=\"steps-pre\", alpha=.5)\n",
    "sensitivity[\"fission xs\"].plot(ax=ax, ls=\"--\", lw=2, drawstyle=\"steps-pre\", alpha=.5)\n",
    "sensitivity[\"ela scatt xs\"].plot(ax=ax, ls=\"--\", lw=2, drawstyle=\"steps-pre\", alpha=.5)\n",
    "sensitivity[\"inl scatt xs\"].plot(ax=ax, ls=\"--\", lw=2, drawstyle=\"steps-pre\", alpha=.5)\n",
    "ax.legend()\n",
    "\n",
    "ax.set(xlim=[1e-3, 20], title=f\"fraction of variance: {fv} (N={n})\")\n",
    "\n",
    "fig.tight_layout()"
   ]
  },
  {
   "cell_type": "code",
   "execution_count": null,
   "id": "6c686d58",
   "metadata": {},
   "outputs": [],
   "source": [
    "fig, ax = plt.subplots(figsize=(10, 6))\n",
    "\n",
    "model = model\n",
    "\n",
    "fv = 0.90\n",
    "n = acc[acc < fv].size + 1\n",
    "Y = model(X[:n, :].T)\n",
    "Z = lstsq(X[:n, :], Y)[0]\n",
    "\n",
    "pd.Series(Z[(e.size - 1)*0:(e.size - 1)*1], index=e[1:]).plot(kind=\"line\", ax=ax, logx=True, drawstyle=\"steps-pre\", label=\"sensitivity ela scatt xs\")\n",
    "pd.Series(Z[(e.size - 1)*1:(e.size - 1)*2], index=e[1:]).plot(kind=\"line\", ax=ax, logx=True, drawstyle=\"steps-pre\", label=\"sensitivity inl scatt xs\")\n",
    "pd.Series(Z[(e.size - 1)*2:(e.size - 1)*3], index=e[1:]).plot(kind=\"line\", ax=ax, logx=True, drawstyle=\"steps-pre\", label=\"sensitivity capture xs\")\n",
    "pd.Series(Z[(e.size - 1)*3:(e.size - 1)*4], index=e[1:]).plot(kind=\"line\", ax=ax, logx=True, drawstyle=\"steps-pre\", label=\"sensitivity fission xs\")\n",
    "sensitivity[\"capture xs\"].plot(ax=ax, ls=\"--\", lw=2, drawstyle=\"steps-pre\", alpha=.5)\n",
    "sensitivity[\"fission xs\"].plot(ax=ax, ls=\"--\", lw=2, drawstyle=\"steps-pre\", alpha=.5)\n",
    "sensitivity[\"ela scatt xs\"].plot(ax=ax, ls=\"--\", lw=2, drawstyle=\"steps-pre\", alpha=.5)\n",
    "sensitivity[\"inl scatt xs\"].plot(ax=ax, ls=\"--\", lw=2, drawstyle=\"steps-pre\", alpha=.5)\n",
    "ax.legend()\n",
    "\n",
    "ax.set(xlim=[1e-3, 20], title=f\"fraction of variance: {fv} (N={n})\")\n",
    "\n",
    "fig.tight_layout()"
   ]
  },
  {
   "cell_type": "code",
   "execution_count": null,
   "id": "fe88761d",
   "metadata": {},
   "outputs": [],
   "source": [
    "fig, ax = plt.subplots(figsize=(10, 6))\n",
    "\n",
    "model = model\n",
    "\n",
    "fv = 0.95\n",
    "n = acc[acc < fv].size + 1\n",
    "Y = model(X[:n, :].T)\n",
    "Z = lstsq(X[:n, :], Y)[0]\n",
    "\n",
    "pd.Series(Z[(e.size - 1)*0:(e.size - 1)*1], index=e[1:]).plot(kind=\"line\", ax=ax, logx=True, drawstyle=\"steps-pre\", label=\"sensitivity ela scatt xs\")\n",
    "pd.Series(Z[(e.size - 1)*1:(e.size - 1)*2], index=e[1:]).plot(kind=\"line\", ax=ax, logx=True, drawstyle=\"steps-pre\", label=\"sensitivity inl scatt xs\")\n",
    "pd.Series(Z[(e.size - 1)*2:(e.size - 1)*3], index=e[1:]).plot(kind=\"line\", ax=ax, logx=True, drawstyle=\"steps-pre\", label=\"sensitivity capture xs\")\n",
    "pd.Series(Z[(e.size - 1)*3:(e.size - 1)*4], index=e[1:]).plot(kind=\"line\", ax=ax, logx=True, drawstyle=\"steps-pre\", label=\"sensitivity fission xs\")\n",
    "sensitivity[\"capture xs\"].plot(ax=ax, ls=\"--\", lw=2, drawstyle=\"steps-pre\", alpha=.5)\n",
    "sensitivity[\"fission xs\"].plot(ax=ax, ls=\"--\", lw=2, drawstyle=\"steps-pre\", alpha=.5)\n",
    "sensitivity[\"ela scatt xs\"].plot(ax=ax, ls=\"--\", lw=2, drawstyle=\"steps-pre\", alpha=.5)\n",
    "sensitivity[\"inl scatt xs\"].plot(ax=ax, ls=\"--\", lw=2, drawstyle=\"steps-pre\", alpha=.5)\n",
    "ax.legend()\n",
    "\n",
    "ax.set(xlim=[1e-3, 20], title=f\"fraction of variance: {fv} (N={n})\")\n",
    "\n",
    "fig.tight_layout()"
   ]
  },
  {
   "cell_type": "code",
   "execution_count": null,
   "id": "2b91b36c",
   "metadata": {},
   "outputs": [],
   "source": [
    "fig, ax = plt.subplots(figsize=(10, 6))\n",
    "\n",
    "model = model\n",
    "\n",
    "fv = 0.99\n",
    "n = acc[acc < fv].size + 1\n",
    "Y = model(X[:n, :].T)\n",
    "Z = lstsq(X[:n, :], Y)[0]\n",
    "\n",
    "pd.Series(Z[(e.size - 1)*0:(e.size - 1)*1], index=e[1:]).plot(kind=\"line\", ax=ax, logx=True, drawstyle=\"steps-pre\", label=\"sensitivity ela scatt xs\")\n",
    "pd.Series(Z[(e.size - 1)*1:(e.size - 1)*2], index=e[1:]).plot(kind=\"line\", ax=ax, logx=True, drawstyle=\"steps-pre\", label=\"sensitivity inl scatt xs\")\n",
    "pd.Series(Z[(e.size - 1)*2:(e.size - 1)*3], index=e[1:]).plot(kind=\"line\", ax=ax, logx=True, drawstyle=\"steps-pre\", label=\"sensitivity capture xs\")\n",
    "pd.Series(Z[(e.size - 1)*3:(e.size - 1)*4], index=e[1:]).plot(kind=\"line\", ax=ax, logx=True, drawstyle=\"steps-pre\", label=\"sensitivity fission xs\")\n",
    "sensitivity[\"capture xs\"].plot(ax=ax, ls=\"--\", lw=2, drawstyle=\"steps-pre\", alpha=.5)\n",
    "sensitivity[\"fission xs\"].plot(ax=ax, ls=\"--\", lw=2, drawstyle=\"steps-pre\", alpha=.5)\n",
    "sensitivity[\"ela scatt xs\"].plot(ax=ax, ls=\"--\", lw=2, drawstyle=\"steps-pre\", alpha=.5)\n",
    "sensitivity[\"inl scatt xs\"].plot(ax=ax, ls=\"--\", lw=2, drawstyle=\"steps-pre\", alpha=.5)\n",
    "ax.legend()\n",
    "\n",
    "ax.set(xlim=[1e-3, 20], title=f\"fraction of variance: {fv} (N={n})\")\n",
    "\n",
    "fig.tight_layout()"
   ]
  }
 ],
 "metadata": {
  "kernelspec": {
   "display_name": "Python [conda env:sandy-v1.0] *",
   "language": "python",
   "name": "conda-env-sandy-v1.0-py"
  },
  "language_info": {
   "codemirror_mode": {
    "name": "ipython",
    "version": 3
   },
   "file_extension": ".py",
   "mimetype": "text/x-python",
   "name": "python",
   "nbconvert_exporter": "python",
   "pygments_lexer": "ipython3",
   "version": "3.11.3"
  }
 },
 "nbformat": 4,
 "nbformat_minor": 5
}
