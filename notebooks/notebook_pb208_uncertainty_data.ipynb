{
 "cells": [
  {
   "cell_type": "markdown",
   "id": "78a221f1",
   "metadata": {},
   "source": [
    "# Pb-208 uncertainty data"
   ]
  },
  {
   "cell_type": "code",
   "execution_count": null,
   "id": "65d2593e",
   "metadata": {},
   "outputs": [],
   "source": [
    "import sandy"
   ]
  },
  {
   "cell_type": "code",
   "execution_count": null,
   "id": "bc0e4656",
   "metadata": {},
   "outputs": [],
   "source": [
    "import matplotlib.pyplot as plt\n",
    "import seaborn as sns"
   ]
  },
  {
   "cell_type": "markdown",
   "id": "d3d11ea1",
   "metadata": {},
   "source": [
    "## ENDF/B-VIII.0"
   ]
  },
  {
   "cell_type": "code",
   "execution_count": null,
   "id": "8c1de7db",
   "metadata": {},
   "outputs": [],
   "source": [
    "err = sandy.get_endf6_file(\"endfb_80\", \"xs\", 822080).get_errorr(err=1, chi=False, mubar=False, errorr33_kws=dict(ign=19))[\"errorr33\"]"
   ]
  },
  {
   "cell_type": "code",
   "execution_count": null,
   "id": "c1009be0",
   "metadata": {},
   "outputs": [],
   "source": [
    "cov_b80 = err.get_cov()"
   ]
  },
  {
   "cell_type": "code",
   "execution_count": null,
   "id": "4c06c194",
   "metadata": {},
   "outputs": [],
   "source": [
    "fig, ax = plt.subplots(figsize=(8, 8), dpi=100)\n",
    "mask = cov_b80.data.index.get_level_values(\"MT\") != 1\n",
    "\n",
    "ng = cov_b80.data.index.get_level_values(\"MT\")[~mask].size\n",
    "nr = cov_b80.data.index.get_level_values(\"MT\").unique().size - 1\n",
    "\n",
    "data = cov_b80.get_corr().data.iloc[mask, mask]\n",
    "sns.heatmap(data=data, vmin=-1, vmax=1, cmap=\"bwr\", ax=ax)\n",
    "for i in range(1, nr):\n",
    "    ax.axvline(ng * i, color=\"k\", ls=\"--\", lw=.5)\n",
    "    ax.axhline(ng * i, color=\"k\", ls=\"--\", lw=.5)\n",
    "fig.tight_layout()"
   ]
  },
  {
   "cell_type": "code",
   "execution_count": null,
   "id": "e4d4692b",
   "metadata": {},
   "outputs": [],
   "source": [
    "mts = [2, 4, 16, 102]\n",
    "s = cov_b80.get_std().reset_index().query(\"MT in @mts\")\n",
    "s[\"ERIGHT\"] = [x.right for x in s.E]\n",
    "s[\"ELEFT\"] = [x.left for x in s.E]\n",
    "s[\"MT\"] = s[\"MT\"].astype(\"category\")\n",
    "s[\"STD\"] *= 100\n",
    "\n",
    "fig, ax = plt.subplots(figsize=(8, 4), dpi=100)\n",
    "sns.lineplot(data=s, x=\"ERIGHT\", y=\"STD\", ax=ax, hue=\"MT\", drawstyle=\"steps-pre\")\n",
    "sns.lineplot(data=s, x=\"ELEFT\", y=\"STD\", ax=ax, hue=\"MT\", drawstyle=\"steps-post\", legend=None)\n",
    "ax.set(xlim=(1e-1, 2e7), xscale=\"log\", ylim=[0, 100], ylabel=\"standard deviation / $\\%$\", xlabel=\"energy / $eV$\")\n",
    "fig.tight_layout()"
   ]
  },
  {
   "cell_type": "markdown",
   "id": "12c64895",
   "metadata": {},
   "source": [
    "## JENDL-4.0u"
   ]
  },
  {
   "cell_type": "code",
   "execution_count": null,
   "id": "f3ebf4c7",
   "metadata": {},
   "outputs": [],
   "source": [
    "err = sandy.get_endf6_file(\"jendl_40u\", \"xs\", 822080).get_errorr(err=1, chi=False, mubar=False, errorr33_kws=dict(ign=19))[\"errorr33\"]"
   ]
  },
  {
   "cell_type": "code",
   "execution_count": null,
   "id": "0459b3e4",
   "metadata": {},
   "outputs": [],
   "source": [
    "cov_j40 = err.get_cov()"
   ]
  },
  {
   "cell_type": "code",
   "execution_count": null,
   "id": "bbd7f22f",
   "metadata": {},
   "outputs": [],
   "source": [
    "fig, ax = plt.subplots(figsize=(8, 8), dpi=100)\n",
    "mask = cov_j40.data.index.get_level_values(\"MT\") != 1\n",
    "\n",
    "ng = cov_j40.data.index.get_level_values(\"MT\")[~mask].size\n",
    "nr = cov_j40.data.index.get_level_values(\"MT\").unique().size - 1\n",
    "\n",
    "data = cov_j40.get_corr().data.iloc[mask, mask]\n",
    "\n",
    "mask2 = data.index.get_level_values(\"MT\").isin(range(51, 92))\n",
    "\n",
    "sns.heatmap(data=data.iloc[~mask2, ~mask2], vmin=-1, vmax=1, cmap=\"bwr\", ax=ax)\n",
    "for i in range(1, nr):\n",
    "    ax.axvline(ng * i, color=\"k\", ls=\"--\", lw=.5)\n",
    "    ax.axhline(ng * i, color=\"k\", ls=\"--\", lw=.5)\n",
    "fig.tight_layout()"
   ]
  },
  {
   "cell_type": "code",
   "execution_count": null,
   "id": "2668743d",
   "metadata": {},
   "outputs": [],
   "source": [
    "mts = [2, 4, 16, 102]\n",
    "s = cov_j40.get_std().reset_index().query(\"MT in @mts\")\n",
    "s[\"ERIGHT\"] = [x.right for x in s.E]\n",
    "s[\"ELEFT\"] = [x.left for x in s.E]\n",
    "s[\"MT\"] = s[\"MT\"].astype(\"category\")\n",
    "s[\"STD\"] *= 100\n",
    "\n",
    "fig, ax = plt.subplots(figsize=(8, 4), dpi=100)\n",
    "sns.lineplot(data=s, x=\"ERIGHT\", y=\"STD\", ax=ax, hue=\"MT\", drawstyle=\"steps-pre\")\n",
    "sns.lineplot(data=s, x=\"ELEFT\", y=\"STD\", ax=ax, hue=\"MT\", drawstyle=\"steps-post\", legend=None)\n",
    "ax.set(xlim=(1e-1, 2e7), xscale=\"log\", ylim=[0, 100], ylabel=\"standard deviation / $\\%$\", xlabel=\"energy / $eV$\")\n",
    "fig.tight_layout()"
   ]
  },
  {
   "cell_type": "markdown",
   "id": "dc1e0328",
   "metadata": {},
   "source": [
    "## JEFF-3.3"
   ]
  },
  {
   "cell_type": "code",
   "execution_count": null,
   "id": "58d63b4e",
   "metadata": {},
   "outputs": [],
   "source": [
    "err = sandy.get_endf6_file(\"jeff_33\", \"xs\", 822080).get_errorr(err=1, chi=False, mubar=False, errorr33_kws=dict(ign=19))[\"errorr33\"]"
   ]
  },
  {
   "cell_type": "code",
   "execution_count": null,
   "id": "58cc4791",
   "metadata": {},
   "outputs": [],
   "source": [
    "cov_j33 = err.get_cov()"
   ]
  },
  {
   "cell_type": "code",
   "execution_count": null,
   "id": "54a782f1",
   "metadata": {},
   "outputs": [],
   "source": [
    "fig, ax = plt.subplots(figsize=(8, 8), dpi=100)\n",
    "mask = cov_j33.data.index.get_level_values(\"MT\") != 1\n",
    "\n",
    "ng = cov_j33.data.index.get_level_values(\"MT\")[~mask].size\n",
    "nr = cov_j33.data.index.get_level_values(\"MT\").unique().size - 1\n",
    "\n",
    "data = cov_j33.get_corr().data.iloc[mask, mask]\n",
    "\n",
    "mask2 = data.index.get_level_values(\"MT\").isin(range(51, 92))\n",
    "\n",
    "sns.heatmap(data=data.iloc[~mask2, ~mask2], vmin=-1, vmax=1, cmap=\"bwr\", ax=ax)\n",
    "for i in range(1, nr):\n",
    "    ax.axvline(ng * i, color=\"k\", ls=\"--\", lw=.5)\n",
    "    ax.axhline(ng * i, color=\"k\", ls=\"--\", lw=.5)\n",
    "fig.tight_layout()"
   ]
  },
  {
   "cell_type": "code",
   "execution_count": null,
   "id": "60542ffa",
   "metadata": {},
   "outputs": [],
   "source": [
    "mts = [2, 4, 16, 102]\n",
    "s = cov_j33.get_std().reset_index().query(\"MT in @mts\")\n",
    "s[\"ERIGHT\"] = [x.right for x in s.E]\n",
    "s[\"ELEFT\"] = [x.left for x in s.E]\n",
    "s[\"MT\"] = s[\"MT\"].astype(\"category\")\n",
    "s[\"STD\"] *= 100\n",
    "\n",
    "fig, ax = plt.subplots(figsize=(8, 4), dpi=100)\n",
    "sns.lineplot(data=s, x=\"ERIGHT\", y=\"STD\", ax=ax, hue=\"MT\", drawstyle=\"steps-pre\")\n",
    "sns.lineplot(data=s, x=\"ELEFT\", y=\"STD\", ax=ax, hue=\"MT\", drawstyle=\"steps-post\", legend=None)\n",
    "ax.set(xlim=(1e-1, 2e7), xscale=\"log\", ylim=[0, 100], ylabel=\"standard deviation / $\\%$\", xlabel=\"energy / $eV$\")\n",
    "fig.tight_layout()"
   ]
  }
 ],
 "metadata": {
  "kernelspec": {
   "display_name": "Python [conda env:sandy-v1.0] *",
   "language": "python",
   "name": "conda-env-sandy-v1.0-py"
  },
  "language_info": {
   "codemirror_mode": {
    "name": "ipython",
    "version": 3
   },
   "file_extension": ".py",
   "mimetype": "text/x-python",
   "name": "python",
   "nbconvert_exporter": "python",
   "pygments_lexer": "ipython3",
   "version": "3.11.3"
  }
 },
 "nbformat": 4,
 "nbformat_minor": 5
}
