{
 "cells": [
  {
   "cell_type": "markdown",
   "id": "07d8bcef",
   "metadata": {},
   "source": [
    "# Regression analysis for correlated variables: bivariate case"
   ]
  },
  {
   "cell_type": "code",
   "execution_count": null,
   "id": "014c3a14",
   "metadata": {},
   "outputs": [],
   "source": [
    "import pandas as pd\n",
    "import numpy as np\n",
    "from numpy.random import multivariate_normal"
   ]
  },
  {
   "cell_type": "code",
   "execution_count": null,
   "id": "650f3a4d",
   "metadata": {},
   "outputs": [],
   "source": [
    "import matplotlib.pyplot as plt"
   ]
  },
  {
   "cell_type": "markdown",
   "id": "6fc5f129",
   "metadata": {},
   "source": [
    "Linear model is $$E[Y|A,B]=E[Y]+a(A-E[A])+b(B-E[B])$$"
   ]
  },
  {
   "cell_type": "code",
   "execution_count": null,
   "id": "f66d06ab",
   "metadata": {},
   "outputs": [],
   "source": [
    "Sa = 3\n",
    "Sb = 5\n",
    "def model(a, b):\n",
    "    return Sa * a + Sb * b"
   ]
  },
  {
   "cell_type": "code",
   "execution_count": null,
   "id": "1c261278",
   "metadata": {},
   "outputs": [],
   "source": [
    "Va = 2\n",
    "Vb = 1.5\n",
    "Cab = 0.4 * np.sqrt(Va) * np.sqrt(Vb)"
   ]
  },
  {
   "cell_type": "code",
   "execution_count": null,
   "id": "76b99bfe",
   "metadata": {},
   "outputs": [],
   "source": [
    "C = np.array([\n",
    "    [Va, Cab],\n",
    "    [Cab, Vb],\n",
    "])"
   ]
  },
  {
   "cell_type": "code",
   "execution_count": null,
   "id": "e793eaeb",
   "metadata": {},
   "outputs": [],
   "source": [
    "N = 1000"
   ]
  },
  {
   "cell_type": "code",
   "execution_count": null,
   "id": "107b8b79",
   "metadata": {},
   "outputs": [],
   "source": [
    "X = multivariate_normal(mean=[0, 0], cov=C, size=N)"
   ]
  },
  {
   "cell_type": "code",
   "execution_count": null,
   "id": "e68379e2",
   "metadata": {},
   "outputs": [],
   "source": [
    "Y = np.array([model(*row) for row in X])"
   ]
  },
  {
   "cell_type": "markdown",
   "id": "cd2dcd29",
   "metadata": {},
   "source": [
    "Regression model is $$\n",
    "\\begin{bmatrix}\n",
    "Var(A) & Cov(A,B)\\\\\n",
    "Cov(A,B) & Var(B)\n",
    "\\end{bmatrix}\n",
    "\\begin{bmatrix}\n",
    "a\\\\\n",
    "b\n",
    "\\end{bmatrix}=\n",
    "\\begin{bmatrix}\n",
    "Cov(E[Y|A,B], A)\\\\\n",
    "Cov(E[Y|A,B], B)\n",
    "\\end{bmatrix}\n",
    "$$"
   ]
  },
  {
   "cell_type": "markdown",
   "id": "f74399d1",
   "metadata": {},
   "source": [
    "simplified as $$C S = Z$$"
   ]
  },
  {
   "cell_type": "code",
   "execution_count": null,
   "id": "98fad4df",
   "metadata": {},
   "outputs": [],
   "source": [
    "Z = np.array([np.cov(Y, row)[0, 1] for row in X.T])"
   ]
  },
  {
   "cell_type": "code",
   "execution_count": null,
   "id": "8404b9ed",
   "metadata": {},
   "outputs": [],
   "source": [
    "np.linalg.inv(C) @ Z"
   ]
  },
  {
   "cell_type": "markdown",
   "id": "e307363b",
   "metadata": {},
   "source": [
    "## Case 1: dependence on the sample size"
   ]
  },
  {
   "cell_type": "code",
   "execution_count": null,
   "id": "5d2bef1d",
   "metadata": {},
   "outputs": [],
   "source": [
    "def foo(n):\n",
    "    X = multivariate_normal(mean=[0, 0], cov=C, size=n)\n",
    "    Y = np.array([model(*row) for row in X])\n",
    "    Z = np.array([np.cov(Y, row)[0, 1] for row in X.T])\n",
    "    return np.linalg.inv(C) @ Z"
   ]
  },
  {
   "cell_type": "code",
   "execution_count": null,
   "id": "d7ec9d29",
   "metadata": {},
   "outputs": [],
   "source": [
    "df = pd.DataFrame({n: [*foo(n)] for n in np.arange(0, 10001, 20)[1::]}).T\n",
    "df.columns = [\"A\", \"B\"]"
   ]
  },
  {
   "cell_type": "code",
   "execution_count": null,
   "id": "7c6fa52b",
   "metadata": {},
   "outputs": [],
   "source": [
    "fig, ax = plt.subplots()\n",
    "df.plot(ax=ax)\n",
    "ax.set(\n",
    "    xlabel=\"sample size\",\n",
    "    ylabel=\"a, b\",\n",
    ")\n",
    "ax.axhline(Sa, ls=\"--\", color=\"k\")\n",
    "ax.axhline(Sb, ls=\"--\", color=\"k\")\n",
    "fig.tight_layout();"
   ]
  },
  {
   "cell_type": "markdown",
   "id": "1273911a",
   "metadata": {},
   "source": [
    "## Case 2: dependence on correlation"
   ]
  },
  {
   "cell_type": "code",
   "execution_count": null,
   "id": "60d04316",
   "metadata": {},
   "outputs": [],
   "source": [
    "def foo(cab):\n",
    "    cov = np.array([\n",
    "        [Va, cab],\n",
    "        [cab, Vb],\n",
    "    ])\n",
    "    X = multivariate_normal(mean=[0, 0], cov=cov, size=2000)\n",
    "    Y = np.array([model(*row) for row in X])\n",
    "    Z = np.array([np.cov(Y, row)[0, 1] for row in X.T])\n",
    "    return np.linalg.inv(cov) @ Z"
   ]
  },
  {
   "cell_type": "code",
   "execution_count": null,
   "id": "1468e3c4",
   "metadata": {},
   "outputs": [],
   "source": [
    "df = pd.DataFrame({n: [*foo(n)] for n in np.linspace(0, 0.7, 100)}).T\n",
    "df.columns = [\"A\", \"B\"]"
   ]
  },
  {
   "cell_type": "code",
   "execution_count": null,
   "id": "c1511b00",
   "metadata": {},
   "outputs": [],
   "source": [
    "fig, ax = plt.subplots()\n",
    "df.plot(ax=ax)\n",
    "ax.set(\n",
    "    xlabel=\"correlation\",\n",
    "    ylabel=\"a, b\",\n",
    ")\n",
    "ax.axhline(Sa, ls=\"--\", color=\"k\")\n",
    "ax.axhline(Sb, ls=\"--\", color=\"k\")\n",
    "fig.tight_layout();"
   ]
  }
 ],
 "metadata": {
  "kernelspec": {
   "display_name": "Python [conda env:sandy-v1.0] *",
   "language": "python",
   "name": "conda-env-sandy-v1.0-py"
  },
  "language_info": {
   "codemirror_mode": {
    "name": "ipython",
    "version": 3
   },
   "file_extension": ".py",
   "mimetype": "text/x-python",
   "name": "python",
   "nbconvert_exporter": "python",
   "pygments_lexer": "ipython3",
   "version": "3.11.3"
  }
 },
 "nbformat": 4,
 "nbformat_minor": 5
}
